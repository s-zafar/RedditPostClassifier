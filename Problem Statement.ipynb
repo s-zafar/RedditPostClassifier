{
 "cells": [
  {
   "cell_type": "markdown",
   "metadata": {},
   "source": [
    "# Problem Statement:"
   ]
  },
  {
   "cell_type": "markdown",
   "metadata": {},
   "source": [
    "The objective of this project is to utilize the API (https://www.reddit.com/wiki/api) of reddit.com (https://www.reddit.com/) to pull data from two different subreddits and build a model that will predict which subreddit a given post comes from. "
   ]
  },
  {
   "cell_type": "markdown",
   "metadata": {},
   "source": [
    "Because the data comes in the form of text, natural language processing (NLP) will be used on data so that machine learning algorithms can be run on it."
   ]
  },
  {
   "cell_type": "markdown",
   "metadata": {},
   "source": [
    " Several machine learning models will be built, evaluated and compared with one another for their predictive power."
   ]
  },
  {
   "cell_type": "markdown",
   "metadata": {},
   "source": [
    "The candidate models will be therefore evaluated on optimizing between the above two criteria.\n",
    "   >high accuracy score &\n",
    "  > low bias and low variance"
   ]
  },
  {
   "cell_type": "markdown",
   "metadata": {},
   "source": [
    "The data used for this project is pulled from two subreddits: r/depression and r/anxiety. The relevant data that will be used for this project is the text body of the posts. "
   ]
  }
 ],
 "metadata": {
  "kernelspec": {
   "display_name": "Python 3",
   "language": "python",
   "name": "python3"
  },
  "language_info": {
   "codemirror_mode": {
    "name": "ipython",
    "version": 3
   },
   "file_extension": ".py",
   "mimetype": "text/x-python",
   "name": "python",
   "nbconvert_exporter": "python",
   "pygments_lexer": "ipython3",
   "version": "3.7.3"
  }
 },
 "nbformat": 4,
 "nbformat_minor": 2
}
